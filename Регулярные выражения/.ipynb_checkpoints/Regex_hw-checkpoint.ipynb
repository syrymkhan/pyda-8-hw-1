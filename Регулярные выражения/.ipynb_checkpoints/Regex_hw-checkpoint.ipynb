{
 "cells": [
  {
   "cell_type": "markdown",
   "metadata": {},
   "source": [
    "**Задание 1.** Напишите функцию, которая принимает на вход строку и проверяет является ли она валидным транспортным номером. Если да, то функция должна возвращать отдельно номер и регион."
   ]
  },
  {
   "cell_type": "code",
   "execution_count": 70,
   "metadata": {},
   "outputs": [
    {
     "name": "stdout",
     "output_type": "stream",
     "text": [
      "Введите Гос. номер транспортного средства типа 000AAA00: 456ASD45\n",
      "Номер танспортного средства:  456\n",
      "Буквенное обозначение танспортного средства:  ASD\n",
      "Регион регистрации танспортного средства:  45\n"
     ]
    }
   ],
   "source": [
    "import re\n",
    "\n",
    "def validate_transport_num():\n",
    "    \n",
    "    t_num = str(input('Введите Гос. номер транспортного средства типа 000AAA00: '))\n",
    "    \n",
    "    if len(t_num) == 8:    \n",
    "        pattern = '([0-9]{3})([a-zA-Z]{3})([\\d]{2})'\n",
    "        n = re.findall(pattern, t_num)\n",
    "        \n",
    "        if n:\n",
    "            for i in n:\n",
    "                print('Номер танспортного средства: ', i[0])\n",
    "                print('Буквенное обозначение танспортного средства: ', i[1])\n",
    "                print('Регион регистрации танспортного средства: ', i[2])\n",
    "                \n",
    "        else:\n",
    "            print('Неверный гос. номер транспортного средства')\n",
    "    else:\n",
    "        print('Неверный гос. номер транспортного средства')\n",
    "\n",
    "\n",
    "\n",
    "\n",
    "validate_transport_num()\n"
   ]
  },
  {
   "cell_type": "markdown",
   "metadata": {},
   "source": [
    "**Задание 2**. Напишите функцию, которая проверяет e-mail адрес на валидность по стандарту RFC822: http://www.w3.org/Protocols/rfc822/. Для этого постарайтесь написать (в крайнем случае найти) самый полный шаблон для проверки e-mail адресов через регулярное выражение. Разберитесь и напишите примеры, какие ваш шаблон может не охватить."
   ]
  },
  {
   "cell_type": "code",
   "execution_count": 318,
   "metadata": {},
   "outputs": [
    {
     "name": "stdout",
     "output_type": "stream",
     "text": [
      "The email n.john+.smith@gma23il.com is a valid\n",
      "The email 87vi#-ctory#@ho2tma.il.com is a valid\n",
      "The email !#mary-=@msca.net is invalid\n",
      "The email n.jo#-hn+.smith@gma#23il.com is invalid\n",
      "The email n.john+.smith@gma23il#.com is invalid\n",
      "The email n.john+.smith@gma2.#3il.com is invalid\n",
      "The email n.john+.smith@gma2#.3il.com is invalid\n",
      "The email n.john+.smith@gm#a2.3il.com is invalid\n",
      "The email n.john+.smith@gma2.3il.co#m is a valid\n"
     ]
    }
   ],
   "source": [
    "emails = ['n.john+.smith@gma23il.com', '87vi#-ctory#@ho2tma.il.com', '!#mary-=@msca.net', 'n.jo#-hn+.smith@gma#23il.com', 'n.john+.smith@gma23il#.com', 'n.john+.smith@gma2.#3il.com', 'n.john+.smith@gma2#.3il.com', 'n.john+.smith@gm#a2.3il.com', 'n.john+.smith@gma2.3il.co#m']\n",
    "\n",
    "regex_mails = '([\\w\\.\\+\\-#_])+[@][\\w\\.]+\\.[\\w\\.]'\n",
    "\n",
    "\n",
    "for email in emails:\n",
    "    if re.match(regex_mails, email):\n",
    "        print('The email {} is a valid'.format(email))\n",
    "    else:\n",
    "        print('The email {} is invalid'.format(email))   "
   ]
  },
  {
   "cell_type": "markdown",
   "metadata": {},
   "source": [
    "**Задание 3.** Напишите функцию, которая будет удалять все последовательные повторы слов из заданной строки при помощи регулярных выражений."
   ]
  },
  {
   "cell_type": "code",
   "execution_count": 392,
   "metadata": {},
   "outputs": [
    {
     "name": "stdout",
     "output_type": "stream",
     "text": [
      "Привет страна моя любимая\n",
      "Мишка на северном полюсе\n"
     ]
    }
   ],
   "source": [
    "def delete_words(string):\n",
    "    s = string \n",
    "    print( re.sub(r'\\b([^\\W\\d_]+)(\\s+\\1)+\\b', r'\\1', re.sub(r'\\W+', ' ', s).strip(), flags=re.I) )\n",
    "\n",
    "delete_words('Привет Привет страна моя любимая любимая')\n",
    "delete_words('Мишка мишка на северном северном полюсе')"
   ]
  },
  {
   "cell_type": "markdown",
   "metadata": {},
   "source": [
    "**Задание 4**. Напишите функцию, которая будет проверять номер сотового телефона на валидность, если он валиден, то переводить его в формат:   \n",
    "+7(xxx)-xxx-xx-xx  \n",
    "Постарайтесь предусмотреть как можно больше адекватных форматов изначального ввода номера.\n",
    "Примеры валидных форматов:\n",
    "- +7 955 555-55-55;\n",
    "- 9555555555;\n",
    "- 8(955)555-55-55;\n",
    "- +7 955 555 55 55;\n",
    "- 7(955) 555-55-55;\n",
    "- +7 955+555+55+55."
   ]
  },
  {
   "cell_type": "code",
   "execution_count": 777,
   "metadata": {},
   "outputs": [
    {
     "name": "stdout",
     "output_type": "stream",
     "text": [
      "+7(955)-555-55-55\n",
      "The phone +7 955 555-55-55 is a valid\n",
      "+7(955)-555-55-55\n",
      "The phone 9555555555 is a valid\n",
      "+7(955)-555-55-55\n",
      "The phone 8(955)555-55-55 is a valid\n",
      "+7(955)-555-55-55\n",
      "The phone +7 955 555 55 55 is a valid\n",
      "+7(955)-555-55-55\n",
      "The phone 7(955) 555-55-55 is a valid\n",
      "+7(955)-555-55-55\n",
      "The phone +7 955+555+55+55 is a valid\n",
      "The phone sad is invalid\n",
      "The phone 812421312412424 is invalid\n"
     ]
    }
   ],
   "source": [
    "def phone_validate(phone):\n",
    "#     regex = '^(8|\\+7|7)?([\\-\\s\\+])?(\\(?)(\\d{3}\\)?[\\-\\+]?)?([\\d\\-\\+ ]{7,10})$'\n",
    "#     regex = '^(8|\\+7|7)?([\\-\\s\\+])?(\\(?)(\\d{3})?([\\-\\+\\)])?(\\s)?(\\d{3})?([\\-\\s\\+])?(\\d{2})?([\\-\\s\\+])?(\\d{2})?'  \n",
    "    \n",
    "    \n",
    "    regex = '^(8|\\+7|7)?([\\-\\s\\+])?(\\(?)(\\d{3})(\\)?[\\-\\s\\+]?)?([\\d\\-\\+\\s]{7,10})$'\n",
    "    n = re.findall(regex, phone)\n",
    "    \n",
    "    if n:\n",
    "        z = re.sub(r'[\\-\\s\\+(\\)\\ ]', '', phone).strip()\n",
    "        z_1 = re.split('\\s', z)\n",
    "        phones_list = []\n",
    "        for i in z_1:\n",
    "            if len(i) == 10:\n",
    "                i = '7'+i\n",
    "            phones_list.append(i)\n",
    "\n",
    "        regex_2 = '^(8|\\+7|7)?(\\d{3})?(\\d{3})?(\\d{2})?(\\d{2})?'\n",
    "        regex_3 = '(8|\\+7|7)?'\n",
    "        for a in phones_list:\n",
    "            n_1 = re.findall(regex_2, a)\n",
    "        print(f'+7({n_1[0][1]})-{n_1[0][2]}-{n_1[0][3]}-{n_1[0][4]}')\n",
    "        \n",
    "        return n_1\n",
    "    \n",
    "    \n",
    "    else:\n",
    "        return\n",
    "\n",
    "    \n",
    "    \n",
    "    \n",
    "phones = ['+7 955 555-55-55', '9555555555', '8(955)555-55-55', '+7 955 555 55 55', '7(955) 555-55-55', '+7 955+555+55+55', 'sad', '812421312412424']\n",
    "\n",
    "for phone in phones:\n",
    "    if phone_validate(phone):\n",
    "        print('The phone {} is a valid'.format(phone))\n",
    "    else:\n",
    "        print('The phone {} is invalid'.format(phone))\n",
    "\n"
   ]
  },
  {
   "cell_type": "code",
   "execution_count": null,
   "metadata": {},
   "outputs": [],
   "source": []
  }
 ],
 "metadata": {
  "kernelspec": {
   "display_name": "Python 3",
   "language": "python",
   "name": "python3"
  },
  "language_info": {
   "codemirror_mode": {
    "name": "ipython",
    "version": 3
   },
   "file_extension": ".py",
   "mimetype": "text/x-python",
   "name": "python",
   "nbconvert_exporter": "python",
   "pygments_lexer": "ipython3",
   "version": "3.7.4"
  }
 },
 "nbformat": 4,
 "nbformat_minor": 2
}
