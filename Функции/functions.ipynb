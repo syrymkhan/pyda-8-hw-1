{
 "cells": [
  {
   "cell_type": "markdown",
   "metadata": {},
   "source": [
    "Вы работаете секретарем и вам постоянно приходят различные документы. Вы должны быть очень внимательны, чтобы не потерять ни один документ. Каталог документов хранится в следующем виде:"
   ]
  },
  {
   "cell_type": "code",
   "execution_count": 98,
   "metadata": {},
   "outputs": [],
   "source": [
    "documents = [\n",
    "    {'type': 'passport', 'number': '2207 876234', 'name': 'Василий Гупкин'},\n",
    "    {'type': 'invoice', 'number': '11-2', 'name': 'Геннадий Покемонов'},\n",
    "    {'type': 'insurance', 'number': '10006', 'name': 'Аристарх Павлов'}\n",
    "]"
   ]
  },
  {
   "cell_type": "markdown",
   "metadata": {},
   "source": [
    "Перечень полок, на которых находятся документы хранится в следующем виде:"
   ]
  },
  {
   "cell_type": "code",
   "execution_count": 99,
   "metadata": {},
   "outputs": [],
   "source": [
    "directories = {\n",
    "    '1': ['2207 876234', '11-2'],\n",
    "    '2': ['10006'],\n",
    "    '3': []\n",
    "}"
   ]
  },
  {
   "cell_type": "markdown",
   "metadata": {},
   "source": [
    "Необходимо реализовать пользовательские команды (внимание! это не название функций, которые должны быть выразительными, а команды, которые вводит пользователь, чтобы получить необходимый результат):\n",
    "  \n",
    "- p – people – команда, которая спросит номер документа и выведет имя человека, которому он принадлежит;  \n",
    "- s – shelf – команда, которая спросит номер документа и выведет номер полки, на которой он находится  \n",
    "Правильно обработайте ситуацию, когда пользователь будет вводить несуществующий документ.\n",
    "- l – list – команда, которая выведет список всех документов в формате   \n",
    "**passport \"2207 876234\" \"Василий Гупкин\"**  \n",
    "- as – add shelf – команда, которая спросит номер новой полки и добавит ее в перечень\n",
    "- d – delete – команда, которая спросит номер документа и удалит его из каталога и из перечня полок. Предусмотрите сценарий, когда пользователь вводит несуществующий документ;  \n",
    "- m – move – команда, которая спросит номер документа и целевую полку и переместит его с текущей полки на целевую. Корректно обработайте кейсы, когда пользователь пытается переместить несуществующий документ или переместить документ на несуществующую полку;  \n",
    "- a – add – команда, которая добавит новый документ в каталог и в перечень полок, спросив его номер, тип, имя владельца и номер полки, на котором он будет храниться."
   ]
  },
  {
   "cell_type": "code",
   "execution_count": 108,
   "metadata": {},
   "outputs": [
    {
     "name": "stdout",
     "output_type": "stream",
     "text": [
      "Введите команду: asd\n",
      "Введена неверная команда\n"
     ]
    }
   ],
   "source": [
    "def people():\n",
    "    number = input('Введите номер документа: ')\n",
    "    if any(document for document in documents if document.get('number') == number):\n",
    "        print(next(document for document in documents if document['number'] == number)['name'])\n",
    "    else:\n",
    "        print('Документ не найден')\n",
    "        \n",
    "def shelf():\n",
    "    number = input('Введите номер документа: ')\n",
    "    if any(document for document in documents if document.get('number') == number):\n",
    "        for shelf, docs in directories.items():\n",
    "            if number in docs:\n",
    "                print(shelf)\n",
    "    else:\n",
    "        print('Документ не найден')\n",
    "        \n",
    "def list_c():\n",
    "    docs = []\n",
    "    for document in documents:\n",
    "        docs.append(f\"{document.get('type')} \\\"{document.get('number')}\\\" {document.get('name')}\")\n",
    "    for doc in docs:\n",
    "        print(doc)\n",
    "            \n",
    "def add_shelf():\n",
    "    new_shelf = input(\"Введите номер новой полки: \")\n",
    "    global directories\n",
    "    if new_shelf in directories.keys():\n",
    "        print('Такая полка уже существует')\n",
    "    elif new_shelf not in directories.keys():\n",
    "        directories[new_shelf] = []\n",
    "        print(f\"Создана новая полка номер {new_shelf}\")\n",
    "        for shelf, docs in directories.items():\n",
    "            print(shelf, docs)\n",
    "\n",
    "def delete():\n",
    "    global documents\n",
    "    global directories\n",
    "    \n",
    "    number = input('Введите номер документа: ')\n",
    "    if any(document for document in documents if document.get('number') == number):\n",
    "        for shelf, docs in directories.items():\n",
    "            if number in docs:\n",
    "                shelf_id = shelf\n",
    "        documents = [document for document in documents if document.get('number') != number]\n",
    "        directories[shelf_id].remove(number)\n",
    "        print(f\"Документ номер {number} удален\")\n",
    "        print(documents)\n",
    "        print(directories)\n",
    "    else:\n",
    "        print('Такого документа не существует')\n",
    "            \n",
    "def move():\n",
    "    global documents\n",
    "    global directories\n",
    "    \n",
    "    number = input('Введите номер документа: ')\n",
    "    if any(document for document in documents if document.get('number') == number):\n",
    "        for shelf, docs in directories.items():\n",
    "            if number in docs:\n",
    "                shelf_id = shelf \n",
    "        print(f'Документ сейчас лежит на полке {shelf_id}')\n",
    "        move_shelf = input('Введите на какую полку поместить документ: ')\n",
    "        if move_shelf == shelf_id:\n",
    "            print('Документ уже лежит на этой полке')\n",
    "        elif move_shelf not in directories.keys():\n",
    "            print('Такой полки не существует')\n",
    "        else:\n",
    "            directories[shelf_id].remove(number)\n",
    "            directories[move_shelf].append(number)\n",
    "            print(directories)\n",
    "    else:\n",
    "        print('Такого документа не существует')\n",
    "        \n",
    "\n",
    "def add():\n",
    "    global documents\n",
    "    global directories\n",
    "    \n",
    "    number = input('Введите номер документа: ')\n",
    "    if any(document for document in documents if document.get('number') == number):\n",
    "        print('Документ с таким номером уже существует')\n",
    "    else:\n",
    "        new_name = input('Введите имя владельца')\n",
    "        new_type = input('Введите тип документа')\n",
    "        new_shelf = input('Введите полку для документа')\n",
    "        if new_shelf not in directories.keys():\n",
    "            print('Такой полки не существует')\n",
    "        else:\n",
    "            documents.append({'type': new_type, 'number': number, 'name': new_name})\n",
    "            directories[new_shelf].append(number)\n",
    "            print(f\"Новый документ помещен на полку {new_shelf}\")\n",
    "            print(documents)\n",
    "            print(directories)\n",
    "            \n",
    "            \n",
    "            \n",
    "        \n",
    "            \n",
    "command = input('Введите команду: ')\n",
    "if command == 'p':\n",
    "    people()\n",
    "elif command == 's':\n",
    "    shelf()\n",
    "elif command == 'l':\n",
    "    list_c()\n",
    "elif command == 'as':\n",
    "    add_shelf()\n",
    "elif command == 'd':\n",
    "    delete()\n",
    "elif command == 'm':\n",
    "    move()\n",
    "elif command == 'a':\n",
    "    add()\n",
    "else:\n",
    "    print('Введена неверная команда')\n",
    "\n",
    "\n",
    "        "
   ]
  },
  {
   "cell_type": "code",
   "execution_count": null,
   "metadata": {},
   "outputs": [],
   "source": []
  }
 ],
 "metadata": {
  "kernelspec": {
   "display_name": "Python 3",
   "language": "python",
   "name": "python3"
  },
  "language_info": {
   "codemirror_mode": {
    "name": "ipython",
    "version": 3
   },
   "file_extension": ".py",
   "mimetype": "text/x-python",
   "name": "python",
   "nbconvert_exporter": "python",
   "pygments_lexer": "ipython3",
   "version": "3.7.4"
  }
 },
 "nbformat": 4,
 "nbformat_minor": 2
}
