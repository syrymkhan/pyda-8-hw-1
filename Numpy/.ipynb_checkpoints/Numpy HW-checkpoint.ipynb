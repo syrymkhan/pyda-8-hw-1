{
 "cells": [
  {
   "cell_type": "markdown",
   "metadata": {},
   "source": [
    "Задание 1\n",
    "Создайте numpy array с элементами от числа N до 0 (например, для N = 10 это будет array([9, 8, 7, 6, 5, 4, 3, 2, 1, 0])).\n",
    "\n"
   ]
  },
  {
   "cell_type": "code",
   "execution_count": 16,
   "metadata": {},
   "outputs": [
    {
     "name": "stdout",
     "output_type": "stream",
     "text": [
      "Введите N: 10\n",
      "[9 8 7 6 5 4 3 2 1 0]\n"
     ]
    },
    {
     "data": {
      "text/plain": [
       "array([9, 8, 7, 6, 5, 4, 3, 2, 1, 0])"
      ]
     },
     "execution_count": 16,
     "metadata": {},
     "output_type": "execute_result"
    }
   ],
   "source": [
    "import numpy as np\n",
    "\n",
    "N = int(input('Введите N: '))\n",
    "\n",
    "print(np.arange((N-1), -1, -1))\n",
    "np.arange((N-1), -1, -1)"
   ]
  },
  {
   "cell_type": "markdown",
   "metadata": {},
   "source": [
    "Задание 2\n",
    "Создайте диагональную матрицу с элементами от N до 0. Посчитайте сумму ее значений на диагонали.\n",
    "\n"
   ]
  },
  {
   "cell_type": "code",
   "execution_count": 25,
   "metadata": {},
   "outputs": [
    {
     "name": "stdout",
     "output_type": "stream",
     "text": [
      "Введите N: 10\n",
      "\n",
      "Матрица: \n",
      "\n",
      "[[9 0 0 0 0 0 0 0 0 0]\n",
      " [0 8 0 0 0 0 0 0 0 0]\n",
      " [0 0 7 0 0 0 0 0 0 0]\n",
      " [0 0 0 6 0 0 0 0 0 0]\n",
      " [0 0 0 0 5 0 0 0 0 0]\n",
      " [0 0 0 0 0 4 0 0 0 0]\n",
      " [0 0 0 0 0 0 3 0 0 0]\n",
      " [0 0 0 0 0 0 0 2 0 0]\n",
      " [0 0 0 0 0 0 0 0 1 0]\n",
      " [0 0 0 0 0 0 0 0 0 0]]\n",
      "\n",
      "Сумма элементов по диагонали:  45\n"
     ]
    }
   ],
   "source": [
    "import numpy as np\n",
    "\n",
    "N = int(input('Введите N: '))\n",
    "\n",
    "m = np.diag(np.arange((N-1), -1, -1))\n",
    "print('')\n",
    "print('Матрица: ')\n",
    "print('')\n",
    "print(m)\n",
    "print('')\n",
    "\n",
    "count = 0\n",
    "for line in m:\n",
    "    count += sum(line)\n",
    "\n",
    "print('Сумма элементов по диагонали: ', count)"
   ]
  },
  {
   "cell_type": "markdown",
   "metadata": {},
   "source": [
    "Задание 3\n",
    "Решите систему уравнений:\n",
    "\n",
    "4x + 2y + z = 4\n",
    "\n",
    "x + 3y = 12\n",
    "\n",
    "5y + 4z = -3\n",
    "\n"
   ]
  },
  {
   "cell_type": "code",
   "execution_count": 30,
   "metadata": {},
   "outputs": [
    {
     "name": "stdout",
     "output_type": "stream",
     "text": [
      "[ 0.46666667  3.84444444 -5.55555556]\n",
      "4.0 11.999999990000001 -3.0000000399999998\n"
     ]
    }
   ],
   "source": [
    "import numpy as np\n",
    "\n",
    "a = np.array([[4, 2, 1], [1, 3, 0], [0, 5, 4]])\n",
    "b = np.array([4, 12, -3])\n",
    "\n",
    "result = np.linalg.solve(a, b)\n",
    "\n",
    "print(result)\n",
    "\n",
    "s_1 = 0.46666667 * 4 + 2 * 3.84444444 - 1 * 5.55555556\n",
    "s_2 = 0.46666667 * 1 + 3 * 3.84444444 - 0 * 5.55555556\n",
    "s_3 = 0.46666667 * 0 + 5 * 3.84444444 - 4 * 5.55555556\n",
    "\n",
    "print(s_1, s_2, s_3)"
   ]
  },
  {
   "cell_type": "markdown",
   "metadata": {},
   "source": [
    "Задание 4\n",
    "В материалах занятия раздел “Задача 4 домашнего задания”\n",
    "\n",
    "Найдите самого похожего пользователя. Т. е. посчитайте косинусное расстояние между этим пользователем и всеми пользователями из массива user_stats\n"
   ]
  },
  {
   "cell_type": "code",
   "execution_count": 58,
   "metadata": {},
   "outputs": [
    {
     "name": "stdout",
     "output_type": "stream",
     "text": [
      "id = 1: Косинусное расстояние: 0.19999999999999996;\n",
      "id = 2: Косинусное расстояние: 0.8451542547285165;\n",
      "id = 3: Косинусное расстояние: 0.3999999999999999;\n",
      "id = 4: Косинусное расстояние: 0.7905694150420948;\n",
      "id = 5: Косинусное расстояние: 0.3999999999999999;\n",
      "id = 6: Косинусное расстояние: 0.0;\n",
      "id = 7: Косинусное расстояние: 0.0;\n",
      "id = 8: Косинусное расстояние: 0.9486832980505138;\n",
      "id = 9: Косинусное расстояние: 0.0;\n",
      "id = 10: Косинусное расстояние: 0.0;\n",
      "\n",
      "Id самого похожего пользователя: 8; Косинусное расстояние: 0.9486832980505138;\n"
     ]
    }
   ],
   "source": [
    "import numpy as np\n",
    "\n",
    "\n",
    "# Имеется матрица покупок в интернет-магазине. Столбец А - ID пользователя. \n",
    "# Остальные столбцы - количество покупок категорий товаров этим пользователем:\n",
    "users_stats = np.array(\n",
    "    [\n",
    "        [2, 1, 0, 0, 0, 0],\n",
    "        [1, 1, 2, 1, 0, 0],\n",
    "        [2, 0, 1, 0, 0, 0],\n",
    "        [1, 1, 2, 1, 0, 1],\n",
    "        [0, 0, 1, 2, 0, 0],\n",
    "        [0, 0, 0, 0, 0, 5],\n",
    "        [1, 0, 0, 0, 0, 0],\n",
    "        [0, 1, 1, 0, 0, 0],\n",
    "        [0, 0, 0, 1, 1, 3],\n",
    "        [1, 0, 0, 2, 1, 4]\n",
    "    ], \n",
    "    np.int32\n",
    ")\n",
    "\n",
    "\n",
    "# На сайт заходит очередной посетитель, о покупках которого известно следующее:\n",
    "next_user_stats = np.array([0, 1, 2, 0, 0, 0])\n",
    "\n",
    "\n",
    "def cosine( a, b ):\n",
    "    \n",
    "    # Подсчет косинуса угла между векторами a, b по их координатам\n",
    "    \n",
    "    \n",
    "    # длины векторов\n",
    "    aLength = np.linalg.norm( a )\n",
    "    bLength = np.linalg.norm( b )\n",
    "    \n",
    "    return np.dot( a, b ) / ( aLength * bLength )\n",
    "\n",
    "i = 0\n",
    "users_cosine_dict = {}\n",
    "users_cosine_list = []\n",
    "for a in users_stats:\n",
    "    i += 1\n",
    "    c = cosine( a, next_user_stats )\n",
    "    users_cosine[i] = c\n",
    "    users_cosine_list.append(c)\n",
    "    print(f'id = {i}:', f'Косинусное расстояние: {c};')\n",
    "\n",
    "for ids, cosines  in users_cosine.items():\n",
    "    if cosines == max(users_cosine_list):\n",
    "        print('')\n",
    "        print(f'Id самого похожего пользователя: {ids};', f'Косинусное расстояние: {cosines};')"
   ]
  },
  {
   "cell_type": "code",
   "execution_count": null,
   "metadata": {},
   "outputs": [],
   "source": []
  }
 ],
 "metadata": {
  "kernelspec": {
   "display_name": "Python 3",
   "language": "python",
   "name": "python3"
  },
  "language_info": {
   "codemirror_mode": {
    "name": "ipython",
    "version": 3
   },
   "file_extension": ".py",
   "mimetype": "text/x-python",
   "name": "python",
   "nbconvert_exporter": "python",
   "pygments_lexer": "ipython3",
   "version": "3.7.4"
  }
 },
 "nbformat": 4,
 "nbformat_minor": 2
}
