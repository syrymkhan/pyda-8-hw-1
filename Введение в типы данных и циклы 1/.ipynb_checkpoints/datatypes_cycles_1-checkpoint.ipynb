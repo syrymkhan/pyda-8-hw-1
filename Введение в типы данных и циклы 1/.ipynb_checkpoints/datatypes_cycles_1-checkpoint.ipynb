{
 "cells": [
  {
   "cell_type": "markdown",
   "metadata": {},
   "source": [
    "**Задача 1**. Дано слово из латинских букв. Напишите скрипт, который выводит на экран букву из середины слова (если число букв нечетное). Если букв четное число, то на экран выводятся две буквы из середины.  \n",
    "\n",
    "Пример: для 'test' должно выводится 'es', для 'testing' - 't'"
   ]
  },
  {
   "cell_type": "code",
   "execution_count": 5,
   "metadata": {},
   "outputs": [
    {
     "name": "stdout",
     "output_type": "stream",
     "text": [
      "Введите любое слово: asdfgh\n",
      "length:  6\n",
      "df\n"
     ]
    }
   ],
   "source": [
    "word = input('Введите любое слово: ')\n",
    "length = int(len(word))\n",
    "a = int(length / 2)\n",
    "print ('length: ', length)\n",
    "if length % 2 == 0:\n",
    "    print (word[a-1:a+1])\n",
    "else:\n",
    "    print (word[a])"
   ]
  },
  {
   "cell_type": "markdown",
   "metadata": {},
   "source": [
    "**Задача 2**. Мы делаем MVP dating-сервиса, и у нас есть список парней и девушек (их число может варьироваться):"
   ]
  },
  {
   "cell_type": "code",
   "execution_count": 27,
   "metadata": {},
   "outputs": [
    {
     "name": "stdout",
     "output_type": "stream",
     "text": [
      "Идеальные пары:\n",
      "Alex и  Emma\n",
      "Arthur и  Kate\n",
      "John и  Kira\n",
      "Peter и  Liza\n",
      "Richard и  Trisha\n"
     ]
    }
   ],
   "source": [
    "boys = ['Peter', 'Alex', 'John', 'Arthur', 'Richard']\n",
    "girls = ['Kate', 'Liza', 'Kira', 'Emma', 'Trisha']\n",
    "l_b = len(boys)\n",
    "l_g = len(girls)\n",
    "\n",
    "b = sorted(boys)\n",
    "g = sorted (girls)\n",
    "\n",
    "\n",
    "if (l_b != l_g):\n",
    "    print ('Внимание! Кто-то может остаться без пары!')\n",
    "else:\n",
    "    date_b_g = list(zip(b,g))\n",
    "    print('Идеальные пары:')\n",
    "    for pare in date_b_g:\n",
    "        print(pare[0], 'и ', pare[1])\n",
    "    "
   ]
  },
  {
   "cell_type": "markdown",
   "metadata": {},
   "source": [
    "Выдвигаем гипотезу: лучшие рекомендации мы получим, если просто отсортируем имена по алфавиту и познакомим людей с одинаковыми индексами после сортировки! \"Познакомить\" пары нам поможет функция zip, а в цикле распакуем zip-объект и выведем информацию в виде:\n",
    "\n",
    "Идеальные пары:  \n",
    "Alex и Emma  \n",
    "Arthur и Kate  \n",
    "John и Kira  \n",
    "Peter и Liza  \n",
    "Richard и Trisha  "
   ]
  },
  {
   "cell_type": "markdown",
   "metadata": {},
   "source": [
    "**Внимание! Если количество людей в списках будет не совпадать, то мы никого знакомить не будет и выведем пользователю предупреждение, что кто-то может остаться без пары!**"
   ]
  },
  {
   "cell_type": "markdown",
   "metadata": {},
   "source": [
    "**Задача 3**. У нас есть список, содержащий информацию о среднедневной температуре в Фаренгейтах за недельный период по странам.\n",
    "Необходимо написать код, который рассчитает среднюю температуру за неделю в Цельсиях для каждой страны."
   ]
  },
  {
   "cell_type": "code",
   "execution_count": 27,
   "metadata": {},
   "outputs": [
    {
     "name": "stdout",
     "output_type": "stream",
     "text": [
      "В стране: Thailand средняя температура за недельный период: 23.857142857142858\n",
      "В стране: Germany средняя температура за недельный период: 37.57142857142857\n",
      "В стране: Russia средняя температура за недельный период: 41.285714285714285\n",
      "В стране: Poland средняя температура за недельный период: 53.142857142857146\n"
     ]
    }
   ],
   "source": [
    "countries_temperature = [\n",
    " ['Thailand', [75.2, 77, 78.8, 73.4, 68, 75.2, 77]],\n",
    " ['Germany', [57.2, 55.4, 59, 59, 53.6, 55.4, 57.2]],\n",
    " ['Russia', [35.6, 37.4, 39.2, 41, 42.8, 39.2, 35.6]],\n",
    " ['Poland', [50, 50, 53.6, 57.2, 55.4, 55.4, 51.8]],\n",
    "]\n",
    "celsius = 0\n",
    "for country, temp in countries_temperature:\n",
    "    count_celsius = 0\n",
    "    for fahrenheit in temp:\n",
    "        celsius += ((float(fahrenheit) - 32) * 5 / 9)\n",
    "        count_celsius += 1\n",
    "    avg_celsius = celsius/count_celsius\n",
    "    print('В стране:', country, 'средняя температура за недельный период:', avg_celsius, end = '')\n",
    "    print('')"
   ]
  },
  {
   "cell_type": "markdown",
   "metadata": {},
   "source": [
    "**Задача 4.** Дан поток логов по количеству просмотренных страниц для каждого пользователя. Список отсортирован по ID пользователя. Вам необходимо написать алгоритм, который считает среднее значение просмотров на пользователя. \n",
    "Т. е. надо посчитать отношение суммы всех просмотров к количеству уникальных пользователей."
   ]
  },
  {
   "cell_type": "code",
   "execution_count": 46,
   "metadata": {},
   "outputs": [
    {
     "name": "stdout",
     "output_type": "stream",
     "text": [
      "Общее количество просмотров:  93\n",
      "Общее количество уникальных пользователей:  4\n",
      "Среднее значение просмотров на пользователя:  23.25\n",
      "\n"
     ]
    }
   ],
   "source": [
    "stream = [\n",
    "    '2018-01-01,user1,3',\n",
    "    '2018-01-07,user1,4',\n",
    "    '2018-03-29,user1,1',\n",
    "    '2018-04-04,user1,13',\n",
    "    '2018-01-05,user2,7',\n",
    "    '2018-06-14,user3,4',\n",
    "    '2018-07-02,user3,10',\n",
    "    '2018-03-21,user4,19',\n",
    "    '2018-03-22,user4,4',\n",
    "    '2018-04-22,user4,8',\n",
    "    '2018-05-03,user4,9',\n",
    "    '2018-05-11,user4,11',\n",
    "]\n",
    "\n",
    "i = -1\n",
    "user_views = 0\n",
    "userlist = []\n",
    "\n",
    "for user in stream:\n",
    "    users = user.split(',')\n",
    "    user_id = users[1]\n",
    "    user_views += int(users[2])\n",
    "    i += 1\n",
    "    userlist.insert(i, user_id)\n",
    "       \n",
    "\n",
    "uniq_users = int(len(set(userlist)))\n",
    "avg_view = user_views / uniq_users\n",
    "print('Общее количество просмотров: ', user_views)\n",
    "print('Общее количество уникальных пользователей: ', uniq_users)\n",
    "print('Среднее значение просмотров на пользователя: ', avg_view)\n",
    "print('')\n"
   ]
  },
  {
   "cell_type": "markdown",
   "metadata": {},
   "source": [
    "**Задача 5**. Дана статистика рекламных кампаний по дням. Напишите алгоритм, который по паре дата-кампания ищет значение численного столбца. \n",
    "Т. е. для даты '2018-01-01' и 'google' нужно получить число 25. \n",
    "Считайте, что все комбинации дата-кампания уникальны."
   ]
  },
  {
   "cell_type": "code",
   "execution_count": 3,
   "metadata": {},
   "outputs": [
    {
     "name": "stdout",
     "output_type": "stream",
     "text": [
      "Введите дату по типу ГГГГ-ММ-ДД: 2018-01-01\n",
      "Введите кампанию (google, yandex, market): market\n",
      "89\n",
      "\n",
      "\n",
      "Введите год по типу ГГГГ: 2018\n",
      "Введите месяц по типу ММ: 01\n",
      "Введите день по типу ДД: 01\n",
      "Введите кампанию (google, yandex, market): google\n",
      "25\n"
     ]
    }
   ],
   "source": [
    "stats = [\n",
    "    ['2018-01-01', 'google', 25],\n",
    "    ['2018-01-01', 'yandex', 65],\n",
    "    ['2018-01-01', 'market', 89],\n",
    "    ['2018-01-02', 'google', 574],\n",
    "    ['2018-01-02', 'yandex', 249],\n",
    "    ['2018-01-02', 'market', 994],\n",
    "    ['2018-01-03', 'google', 1843],\n",
    "    ['2018-01-03', 'yandex', 1327],\n",
    "    ['2018-01-03', 'market', 1764],\n",
    "]\n",
    "\n",
    "\n",
    "in_date = input('Введите дату по типу ГГГГ-ММ-ДД: ')\n",
    "in_campaign = input('Введите кампанию (google, yandex, market): ')\n",
    "for date, campaign, stat in stats:\n",
    "    if in_date == date and in_campaign == campaign:\n",
    "        print(stat)\n",
    "print('')\n",
    "print('') \n",
    "        \n",
    "in_year = input('Введите год по типу ГГГГ: ')\n",
    "in_month = input('Введите месяц по типу ММ: ')\n",
    "in_day = input('Введите день по типу ДД: ')\n",
    "in_campaign = input('Введите кампанию (google, yandex, market): ')\n",
    "in_date = f'{in_year}-{in_month}-{in_day}'\n",
    "for date, campaign, stat in stats:\n",
    "    if in_date == date and in_campaign == campaign:\n",
    "        print(stat)"
   ]
  },
  {
   "cell_type": "markdown",
   "metadata": {},
   "source": [
    "**Задача 6**. Дан список вида:"
   ]
  },
  {
   "cell_type": "code",
   "execution_count": 21,
   "metadata": {},
   "outputs": [
    {
     "name": "stdout",
     "output_type": "stream",
     "text": [
      "103\n"
     ]
    }
   ],
   "source": [
    "data = [\n",
    "    [13, 25, 23, 34],\n",
    "    [45, 32, 44, 47],\n",
    "    [12, 33, 23, 95],\n",
    "    [13, 53, 34, 35]\n",
    "]\n",
    "\n",
    "s = sum([num[i] for i, num in enumerate(data)])\n",
    "print(s)"
   ]
  },
  {
   "cell_type": "markdown",
   "metadata": {},
   "source": [
    "Напишите код, который будет вычислять сумму элементов на диагонали. Т. е. 13+32+23+35.  \n",
    "Список может быть любой длины, но всегда является \"квадратным\" (количество элементов во вложенных списках равно их количеству)."
   ]
  },
  {
   "cell_type": "code",
   "execution_count": null,
   "metadata": {},
   "outputs": [],
   "source": []
  }
 ],
 "metadata": {
  "kernelspec": {
   "display_name": "Python 3",
   "language": "python",
   "name": "python3"
  },
  "language_info": {
   "codemirror_mode": {
    "name": "ipython",
    "version": 3
   },
   "file_extension": ".py",
   "mimetype": "text/x-python",
   "name": "python",
   "nbconvert_exporter": "python",
   "pygments_lexer": "ipython3",
   "version": "3.7.4"
  }
 },
 "nbformat": 4,
 "nbformat_minor": 2
}
