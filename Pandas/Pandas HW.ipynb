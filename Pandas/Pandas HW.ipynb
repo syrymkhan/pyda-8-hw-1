{
 "cells": [
  {
   "cell_type": "markdown",
   "metadata": {},
   "source": [
    "Задание 1\n",
    "Скачайте с сайта https://grouplens.org/datasets/movielens/ датасет любого размера. Определите какому фильму было выставлено больше всего оценок 5.0."
   ]
  },
  {
   "cell_type": "code",
   "execution_count": 24,
   "metadata": {},
   "outputs": [
    {
     "data": {
      "text/plain": [
       "318    153\n",
       "Name: movieId, dtype: int64"
      ]
     },
     "execution_count": 24,
     "metadata": {},
     "output_type": "execute_result"
    }
   ],
   "source": [
    "import pandas as pd\n",
    "\n",
    "ds = pd.read_csv('ratings.csv', 'r', delimiter=',')\n",
    "ds[ds['rating'] == 5.0]['movieId'].value_counts().head(1)"
   ]
  },
  {
   "cell_type": "markdown",
   "metadata": {},
   "source": [
    "Задание 2\n",
    "По данным файла power.csv посчитайте суммарное потребление стран Прибалтики (Латвия, Литва и Эстония) категорий 4, 12 и 21 за период с 2005 по 2010 года. Не учитывайте в расчетах отрицательные значения quantity."
   ]
  },
  {
   "cell_type": "code",
   "execution_count": 26,
   "metadata": {},
   "outputs": [
    {
     "name": "stdout",
     "output_type": "stream",
     "text": [
      "суммарное потребление: 240580.0\n"
     ]
    }
   ],
   "source": [
    "summ = 0\n",
    "\n",
    "ds = pd.read_csv('power.csv', 'r', delimiter=',')\n",
    "\n",
    "ds2 = ds[(ds['year']>=2005)&(ds['year']<=2010)&(ds['quantity']>0)]\n",
    "\n",
    "ds3 = ds2[ds2.category.isin([4,12,21])]\n",
    "\n",
    "summ = ds3[ds3.country.str.contains('|'.join(['Lat','Lit','Est']))]['quantity'].sum()\n",
    "\n",
    "print('суммарное потребление: {}'.format(summ))"
   ]
  },
  {
   "cell_type": "markdown",
   "metadata": {},
   "source": [
    "Задание 3\n",
    "Выберите страницу любого сайта с табличными данными. Импортируйте таблицы в pandas dataframe.\n",
    "Примеры страниц (необязательно брать именно эти):\n",
    "https://fortrader.org/quotes\n",
    "https://www.finanz.ru/valyuty/v-realnom-vremeni"
   ]
  },
  {
   "cell_type": "code",
   "execution_count": 28,
   "metadata": {},
   "outputs": [
    {
     "data": {
      "text/plain": [
       "[    Unnamed: 0              Рубль  Предложение  Спрос  Предыдущее закрытие  \\\n",
       " 0          NaN            GBP/RUB       925086      -               924387   \n",
       " 1          NaN            EUR/RUB       807220      -               806795   \n",
       " 2          NaN            USD/RUB       743524      -               747400   \n",
       " 3          NaN            JPY/RUB        06940      -                06952   \n",
       " 4          NaN            CNY/RUB       105081      -               105538   \n",
       " 5          NaN            CHF/RUB       765099      -               768190   \n",
       " 6          NaN               Евро  Предложение  Спрос  Предыдущее закрытие   \n",
       " 7          NaN            EUR/USD        10858      -                10824   \n",
       " 8          NaN            EUR/GBP        08724      -                08751   \n",
       " 9          NaN            EUR/JPY      1163325      -              1163750   \n",
       " 10         NaN            EUR/CHF        10551      -                10531   \n",
       " 11         NaN         Доллар США  Предложение  Спрос  Предыдущее закрытие   \n",
       " 12         NaN            USD/EUR        09210      -                09239   \n",
       " 13         NaN            USD/GBP        08035      -                08085   \n",
       " 14         NaN            USD/JPY      1071500      -              1075150   \n",
       " 15         NaN            USD/CHF        09716      -                09730   \n",
       " 16         NaN      Японская иена  Предложение  Спрос  Предыдущее закрытие   \n",
       " 17         NaN    JPY/EUR (100:1)        08600      -                08600   \n",
       " 18         NaN            JPY/GBP        00075      -                00075   \n",
       " 19         NaN            JPY/USD        00093      -                00093   \n",
       " 20         NaN    JPY/CHF (100:1)        09100      -                09100   \n",
       " 21         NaN    Фунт стерлингов  Предложение  Спрос  Предыдущее закрытие   \n",
       " 22         NaN            GBP/USD        12445      -                12368   \n",
       " 23         NaN            GBP/JPY      1333023      -              1329746   \n",
       " 24         NaN            GBP/EUR        11464      -                11431   \n",
       " 25         NaN            GBP/CHF        12092      -                12033   \n",
       " 26         NaN  Швейцарский франк  Предложение  Спрос  Предыдущее закрытие   \n",
       " 27         NaN            GBP/CHF        12092      -                12033   \n",
       " 28         NaN            EUR/CHF        10551      -                10531   \n",
       " 29         NaN    JPY/CHF (100:1)        09100      -                09100   \n",
       " 30         NaN            USD/CHF        09716      -                09730   \n",
       " 31         NaN  Украинская гривна  Предложение  Спрос  Предыдущее закрытие   \n",
       " 32         NaN            EUR/UAH       293617      -               293032   \n",
       " 33         NaN            USD/UAH       270477      -               270724   \n",
       " 34         NaN            CHF/UAH       278326      -               278254   \n",
       " 35         NaN            GBP/UAH       336528      -               334832   \n",
       " \n",
       "           %  Абсолютное значение     Время  \n",
       " 0    0,08 %                00700  09:28:00  \n",
       " 1    0,05 %                00425  09:27:00  \n",
       " 2   -0,52 %               -03876  09:27:00  \n",
       " 3   -0,17 %               -00012  09:28:00  \n",
       " 4   -0,43 %               -00457  09:28:00  \n",
       " 5   -0,40 %               -03091  09:28:00  \n",
       " 6         %  Абсолютное значение     Время  \n",
       " 7    0,31 %                00034  09:27:00  \n",
       " 8   -0,31 %               -00028  09:27:00  \n",
       " 9   -0,04 %               -00425  09:27:00  \n",
       " 10   0,19 %                00020  09:27:00  \n",
       " 11        %  Абсолютное значение     Время  \n",
       " 12  -0,31 %               -00029  09:27:00  \n",
       " 13  -0,62 %               -00050  09:27:00  \n",
       " 14  -0,34 %               -03650  09:27:00  \n",
       " 15  -0,15 %               -00014  09:27:00  \n",
       " 16        %  Абсолютное значение     Время  \n",
       " 17   0,05 %                00000  09:28:00  \n",
       " 18  -0,25 %                00000  09:28:00  \n",
       " 19   0,35 %                00000  09:28:00  \n",
       " 20   0,18 %                00000  09:27:00  \n",
       " 21        %  Абсолютное значение     Время  \n",
       " 22   0,62 %                00077  09:27:00  \n",
       " 23   0,25 %                03278  09:28:00  \n",
       " 24   0,29 %                00033  09:27:00  \n",
       " 25   0,49 %                00059  09:27:00  \n",
       " 26        %  Абсолютное значение     Время  \n",
       " 27   0,49 %                00059  09:27:00  \n",
       " 28   0,19 %                00020  09:27:00  \n",
       " 29   0,18 %                00000  09:27:00  \n",
       " 30  -0,15 %               -00014  09:27:00  \n",
       " 31        %  Абсолютное значение     Время  \n",
       " 32   0,20 %                00585  09:28:00  \n",
       " 33  -0,09 %               -00247  09:27:00  \n",
       " 34   0,03 %                00072  09:27:00  \n",
       " 35   0,51 %                01696  09:28:00  ]"
      ]
     },
     "execution_count": 28,
     "metadata": {},
     "output_type": "execute_result"
    }
   ],
   "source": [
    "page_url = 'https://www.finanz.ru/valyuty/v-realnom-vremeni'\n",
    "\n",
    "df = pd.read_html(page_url, attrs = {'class': 'quote_list'}, encoding = 'utf-8')\n",
    "\n",
    "df[:5]"
   ]
  },
  {
   "cell_type": "code",
   "execution_count": null,
   "metadata": {},
   "outputs": [],
   "source": []
  }
 ],
 "metadata": {
  "kernelspec": {
   "display_name": "Python 3",
   "language": "python",
   "name": "python3"
  },
  "language_info": {
   "codemirror_mode": {
    "name": "ipython",
    "version": 3
   },
   "file_extension": ".py",
   "mimetype": "text/x-python",
   "name": "python",
   "nbconvert_exporter": "python",
   "pygments_lexer": "ipython3",
   "version": "3.7.4"
  }
 },
 "nbformat": 4,
 "nbformat_minor": 2
}
