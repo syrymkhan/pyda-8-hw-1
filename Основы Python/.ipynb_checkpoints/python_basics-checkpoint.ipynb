{
 "cells": [
  {
   "cell_type": "markdown",
   "metadata": {},
   "source": [
    "**Задание 1**. Даны 2 строки: *long_phrase* и *short_phrase*. \n",
    "Напишите код, который проверяет действительно ли длинная фраза *long_phrase* длиннее короткой *short_phrase*. И выводит *True* или *False* в зависимости от результата сравнения."
   ]
  },
  {
   "cell_type": "code",
   "execution_count": 2,
   "metadata": {},
   "outputs": [],
   "source": [
    "long_phrase = 'Насколько проще было бы писать программы, если бы не заказчики'\n",
    "short_phrase = '640Кб должно хватить для любых задач. Билл Гейтс (по легенде)'"
   ]
  },
  {
   "cell_type": "code",
   "execution_count": 3,
   "metadata": {},
   "outputs": [
    {
     "data": {
      "text/plain": [
       "True"
      ]
     },
     "execution_count": 3,
     "metadata": {},
     "output_type": "execute_result"
    }
   ],
   "source": [
    "len (long_phrase) > len (short_phrase)"
   ]
  },
  {
   "cell_type": "markdown",
   "metadata": {},
   "source": [
    "**Задание 2**. Дано значение объема файла в байтах (*в мегабайте 2^20 байт*). Напишите перевод этого значения в мегабайты в формате: \"*Объем файла равен 213.68Mb*\"."
   ]
  },
  {
   "cell_type": "code",
   "execution_count": 11,
   "metadata": {},
   "outputs": [
    {
     "name": "stdout",
     "output_type": "stream",
     "text": [
      "Введите размер файла в байтах 2154674321\n",
      "Объем файла равен  2054.857560157776 Mb\n"
     ]
    }
   ],
   "source": [
    "byte = float(input ('Введите размер файла в байтах '))\n",
    "megabyte = byte / 2**20\n",
    "print ('Объем файла равен ', megabyte,'Mb')"
   ]
  },
  {
   "cell_type": "markdown",
   "metadata": {},
   "source": [
    "**Задание 3**. Разработать приложение для определения знака зодиака по дате рождения. Пример:\n",
    "\n",
    "Введите месяц: март\n",
    "\n",
    "Введите число: 6\n",
    "\n",
    "Вывод:\n",
    "Рыбы"
   ]
  },
  {
   "cell_type": "code",
   "execution_count": 64,
   "metadata": {},
   "outputs": [
    {
     "name": "stdout",
     "output_type": "stream",
     "text": [
      "Введите месяц рождения от января до декабря или от 1 до 12: 2\n",
      "Введите день рождения от 1 до 31: 12\n",
      "Водолей\n"
     ]
    }
   ],
   "source": [
    "month = input ('Введите месяц рождения от января до декабря или от 1 до 12: ')\n",
    "birthday = int(input ('Введите день рождения от 1 до 31: '))\n",
    "if (month == 'январь') or (month == 'февраль') or (month == 'март') or (month == 'апрель') or (month == 'май') \\\n",
    "or (month == 'июнь') or (month == 'июль') or (month == 'август') or (month == 'сентябрь') or (month == 'октябрь') \\\n",
    "or (month == 'ноябрь') or (month == 'декабрь') or (month == '1') or (month == '2') or (month == '3') or (month == '4') \\\n",
    "or (month == '5') or (month == '6') or (month == '7') or (month == '8') or (month == '9') or (month == '10') \\\n",
    "or (month == '11') or (month == '12'):\n",
    "    if (month == 'январь' or month == '1'):\n",
    "        if (1 <= birthday <= 20):\n",
    "            print ('Козерог')\n",
    "        elif (21 <= birthday <= 31):\n",
    "            print ('Водолей')\n",
    "        else: print ('Несуществующий день календаря')\n",
    "    elif (month == 'февраль' or month == '2'):\n",
    "        if (1 <= birthday <= 20):\n",
    "            print ('Водолей')\n",
    "        elif (21 <= birthday <= 29):\n",
    "            print ('Рыбы')\n",
    "        else: print ('Несуществующий день календаря')\n",
    "    elif (month == 'март' or month == '3'):\n",
    "        if (1 <= birthday <= 20):\n",
    "            print ('Рыбы')\n",
    "        elif (21 <= birthday <= 31):\n",
    "            print ('Овен')\n",
    "        else: print ('Несуществующий день календаря')\n",
    "    elif (month == 'апрель' or month == '4'):\n",
    "        if (1 <= birthday <= 20):\n",
    "            print ('Овен')\n",
    "        elif (21 <= birthday <= 31):\n",
    "            print ('Телец')\n",
    "        else: print ('Несуществующий день календаря')\n",
    "    elif (month == 'май' or month == '5'):\n",
    "        if (1 <= birthday <= 20):\n",
    "            print ('Телец')\n",
    "        elif (21 <= birthday <= 31):\n",
    "            print ('Близнецы')\n",
    "        else: print ('Несуществующий день календаря')\n",
    "    elif (month == 'июнь' or month == '6'):\n",
    "        if (1 <= birthday <= 21):\n",
    "            print ('Близнецы')\n",
    "        elif (22 <= birthday <= 31):\n",
    "            print ('Рак')\n",
    "        else: print ('Несуществующий день календаря')\n",
    "    elif (month == 'июль' or month == '7'):\n",
    "        if (1 <= birthday <= 22):\n",
    "            print ('Рак')\n",
    "        elif (23 <= birthday <= 31):\n",
    "            print ('Лев')\n",
    "        else: print ('Несуществующий день календаря')\n",
    "    elif (month == 'август' or month == '8'):\n",
    "        if (1 <= birthday <= 23):\n",
    "            print ('Лев')\n",
    "        elif (24 <= birthday <= 31):\n",
    "            print ('Дева')\n",
    "        else: print ('Несуществующий день календаря')\n",
    "    elif (month == 'сентябрь' or month == '9'):\n",
    "        if (1 <= birthday <= 23):\n",
    "            print ('Дева')\n",
    "        elif (24 <= birthday <= 31):\n",
    "            print ('Весы')\n",
    "        else: print ('Несуществующий день календаря')\n",
    "    elif (month == 'октябрь' or month == '10'):\n",
    "        if (1 <= birthday <= 23):\n",
    "            print ('Весы')\n",
    "        elif (24 <= birthday <= 31):\n",
    "            print ('Скорпион')\n",
    "        else: print ('Несуществующий день календаря')\n",
    "    elif (month == 'ноябрь' or month == '11'):\n",
    "        if (1 <= birthday <= 22):\n",
    "            print ('Скорпион')\n",
    "        elif (23 <= birthday <= 31):\n",
    "            print ('Стрелец')\n",
    "        else: print ('Несуществующий день календаря')\n",
    "    elif (month == 'декабрь' or month == '12'):\n",
    "        if (1 <= birthday <= 21):\n",
    "            print ('Стрелец')\n",
    "        elif (22 <= birthday <= 31):\n",
    "            print ('Козерог')\n",
    "        else: print ('Несуществующий день календаря')\n",
    "else: \n",
    "    print ('Неправильный месяц')"
   ]
  },
  {
   "cell_type": "markdown",
   "metadata": {},
   "source": [
    "**Задание 4**. Нужно разработать приложение для финансового планирования.\n",
    "Приложение учитывает сколько уходит на ипотеку, \"на жизнь\" и сколько нужно отложить на пенсию.\n",
    "Пользователь вводит:\n",
    "- заработанную плату в месяц.\n",
    "- сколько процентов от ЗП уходит на ипотеку.\n",
    "- сколько процентов от ЗП уходит \"на жизнь\".\n",
    "- сколько раз приходит премия в год.\n",
    "\n",
    "Остальная часть заработанной платы откладывается на пенсию.\n",
    "\n",
    "Также пользователю приходит премия в размере зарплаты, от которой половина уходит на отпуск, а вторая половина откладывается.\n",
    "\n",
    "Программа должна учитывать сколько премий было в год.\n",
    "\n",
    "Нужно вывести сколько денег тратит пользователь на ипотеку и сколько он накопит за год.\n",
    "\n",
    "Пример:\n",
    "\n",
    "Введите заработанную плату в месяц: 100000\n",
    "\n",
    "Введите сколько процентов уходит на ипотеку: 30\n",
    "\n",
    "Введите сколько процентов уходит на жизнь: 50\n",
    "\n",
    "Введите количество премий за год: 2\n",
    "\n",
    "Вывод:\n",
    "На ипотеку было потрачено: 360000 рублей\n",
    "Было накоплено: 340000 рублей"
   ]
  },
  {
   "cell_type": "code",
   "execution_count": 81,
   "metadata": {},
   "outputs": [
    {
     "name": "stdout",
     "output_type": "stream",
     "text": [
      "Введите свою заработную плату в месяц: 100\n",
      "Введите сколько процентов уходит на ипотеку: 1\n",
      "Введите сколько процентов уходит на жизнь: 50\n",
      "Введите количество премий за год: 1\n",
      "\n",
      "На ипотеку будет потрачено:  1.0 рублей; Остаток от зарплаты:  99.0 рублей\n",
      "На жизнь будет потрачено:  49.5 рублей; Остаток от зарплаты в накопления:  49.5 рублей\n",
      "На отпуск будет потрачено:  50.0 рублей; Остаток от премии в накопления:  50.0 рублей\n",
      "Накоплено будет:  99.5 рублей\n"
     ]
    }
   ],
   "source": [
    "salary = float(input ('Введите свою заработную плату в месяц: '))\n",
    "credit_percent = float(input ('Введите сколько процентов уходит на ипотеку: '))\n",
    "life_percent = float(input ('Введите сколько процентов уходит на жизнь: '))\n",
    "bonus_count = float(input ('Введите количество премий за год: '))\n",
    "\n",
    "credit = (salary * credit_percent) / 100\n",
    "after_credit = salary - credit\n",
    "\n",
    "life = (after_credit * life_percent) / 100\n",
    "after_life = after_credit - life\n",
    "\n",
    "bonus = salary * bonus_count\n",
    "vacation = bonus / 2\n",
    "after_vacation = bonus - vacation\n",
    "\n",
    "saving = after_life + after_vacation\n",
    "\n",
    "print ('')\n",
    "print ('На ипотеку будет потрачено: ', credit, 'рублей; Остаток от зарплаты: ', after_credit, 'рублей')\n",
    "print ('На жизнь будет потрачено: ', life, 'рублей; Остаток от зарплаты в накопления: ', after_life, 'рублей')\n",
    "print ('На отпуск будет потрачено: ', vacation, 'рублей; Остаток от премии в накопления: ', after_vacation, 'рублей')\n",
    "print ('Накоплено будет: ', saving, 'рублей')"
   ]
  },
  {
   "cell_type": "code",
   "execution_count": null,
   "metadata": {},
   "outputs": [],
   "source": []
  }
 ],
 "metadata": {
  "kernelspec": {
   "display_name": "Python 3",
   "language": "python",
   "name": "python3"
  },
  "language_info": {
   "codemirror_mode": {
    "name": "ipython",
    "version": 3
   },
   "file_extension": ".py",
   "mimetype": "text/x-python",
   "name": "python",
   "nbconvert_exporter": "python",
   "pygments_lexer": "ipython3",
   "version": "3.7.4"
  }
 },
 "nbformat": 4,
 "nbformat_minor": 2
}
